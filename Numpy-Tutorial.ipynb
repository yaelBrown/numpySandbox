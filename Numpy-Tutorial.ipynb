{
 "cells": [
  {
   "cell_type": "code",
   "execution_count": 4,
   "id": "d7a544af",
   "metadata": {},
   "outputs": [],
   "source": [
    "\"\"\"\n",
    "https://www.youtube.com/watch?v=QUT1VHiLmmI\n",
    "https://github.com/KeithGalli/NumPy/blob/master/NumPy%20Tutorial.ipynb\n",
    "\"\"\"\n",
    "\n",
    "\"\"\"\n",
    "View docstring - Add '?' after command\n",
    "np.random.randint?\n",
    "\"\"\"\n",
    "\n",
    "import numpy as np"
   ]
  },
  {
   "cell_type": "code",
   "execution_count": 7,
   "id": "4e65497a",
   "metadata": {},
   "outputs": [
    {
     "name": "stdout",
     "output_type": "stream",
     "text": [
      "[1 2 3]\n"
     ]
    }
   ],
   "source": [
    "# Initialize array\n",
    "\n",
    "a = np.array([1,2,3])\n",
    "print(a)"
   ]
  },
  {
   "cell_type": "code",
   "execution_count": 13,
   "id": "d4bbc7b6",
   "metadata": {},
   "outputs": [
    {
     "data": {
      "text/plain": [
       "3"
      ]
     },
     "execution_count": 13,
     "metadata": {},
     "output_type": "execute_result"
    }
   ],
   "source": [
    "# Get information about array\n",
    "\n",
    "# Get Dimension\n",
    "a.ndim\n",
    "\n",
    "# Get Shape\n",
    "a.shape\n",
    "\n",
    "# Get type \n",
    "a.dtype\n",
    "\n",
    "# Get Size\n",
    "a.itemsize\n",
    "\n",
    "# Get Total Size\n",
    "a.nbytes\n",
    "a.size\n"
   ]
  },
  {
   "cell_type": "code",
   "execution_count": 15,
   "id": "fb723dd6",
   "metadata": {},
   "outputs": [
    {
     "data": {
      "text/plain": [
       "array([2, 4, 6])"
      ]
     },
     "execution_count": 15,
     "metadata": {},
     "output_type": "execute_result"
    }
   ],
   "source": [
    "# Accessing/Changing Specific Elements, rows columns, etc\n",
    "\n",
    "b = np.array([[1,2,3,4,5,6,7], [8,9,10,11,12,13,14]])\n",
    "\n",
    "# Get specific element [row, column]\n",
    "b[1,5]\n",
    "\n",
    "# Get specific row\n",
    "b[0, :]\n",
    "\n",
    "# Get specific column\n",
    "b[:, 0]\n",
    "\n",
    "# [startIdx:endIdx:stepSize]\n",
    "b[0, 1:-1:2]\n",
    "\n",
    "# replace element(s)\n",
    "a[1,5] = 20\n",
    "a[:,2] = 15\n",
    "\n",
    "# Returns the index of a value\n",
    "np.index()\n",
    "\n",
    "# argwhere finds an index\n",
    "np.argWhere(np.arange(5))[1][1]"
   ]
  },
  {
   "cell_type": "code",
   "execution_count": 17,
   "id": "a6cf733b",
   "metadata": {},
   "outputs": [
    {
     "name": "stdout",
     "output_type": "stream",
     "text": [
      "[[1 2 3]\n",
      " [1 2 3]\n",
      " [1 2 3]]\n"
     ]
    }
   ],
   "source": [
    "# Initializing Different Types of Arrays\n",
    "\n",
    "# All 0s matrix\n",
    "np.zeros((2,3))\n",
    "\n",
    "# All 1s (ones) matrix\n",
    "# (num of arrays, rows, columns)\n",
    "np.ones((4,2,2), dtype='int32')\n",
    "\n",
    "# Random decimal numbers\n",
    "np.random.rand(4,2) # decimal\n",
    "np.random.sample(a.shape)\n",
    "np.random.randint(-4,8, size=(3,3)) # integer\n",
    "np.random.permutation(np.range(10)) # shuffles\n",
    "\n",
    "# The identity matrix\n",
    "np.identity(5)\n",
    "\n",
    "# Repeat an array\n",
    "arr = np.array([[1,2,3]])\n",
    "r1 = np.repeat(arr,3, axis=0)\n",
    "print(r1)\n",
    "\n",
    "# Creates an array to a certain range (Generator in reg. py)\n",
    "# (startIdx, endIdx, step)\n",
    "np.arange(100)\n",
    "\n",
    "# changes the shape of output\n",
    "np.reshape()\n",
    "\n",
    "# rounds values\n",
    "np.round(0)"
   ]
  },
  {
   "cell_type": "code",
   "execution_count": 20,
   "id": "9f1acb75",
   "metadata": {},
   "outputs": [
    {
     "name": "stdout",
     "output_type": "stream",
     "text": [
      "[[1. 1. 1. 1. 1.]\n",
      " [1. 1. 1. 1. 1.]\n",
      " [1. 1. 1. 1. 1.]\n",
      " [1. 1. 1. 1. 1.]\n",
      " [1. 1. 1. 1. 1.]]\n",
      "[[0. 0. 0.]\n",
      " [0. 9. 0.]\n",
      " [0. 0. 0.]]\n",
      "[[1. 1. 1. 1. 1.]\n",
      " [1. 0. 0. 0. 1.]\n",
      " [1. 0. 9. 0. 1.]\n",
      " [1. 0. 0. 0. 1.]\n",
      " [1. 1. 1. 1. 1.]]\n"
     ]
    }
   ],
   "source": [
    "\"\"\"\n",
    "[[1. 1. 1. 1. 1.]\n",
    " [1. 0. 0. 0. 1.]\n",
    " [1. 0. 9. 0. 1.]\n",
    " [1. 0. 0. 0. 1.]\n",
    " [1. 1. 1. 1. 1.]]\n",
    "\"\"\"\n",
    "\n",
    "output = np.ones((5,5))\n",
    "print(output)\n",
    "\n",
    "z = np.zeros((3,3))\n",
    "z[1,1] = 9\n",
    "print(z)\n",
    "\n",
    "output[1:-1,1:4] = z\n",
    "print(output)"
   ]
  },
  {
   "cell_type": "code",
   "execution_count": 24,
   "id": "df270b5b",
   "metadata": {},
   "outputs": [],
   "source": [
    "# Copying array\n",
    "# do deep copy (copy()) instead of copying the reference\n",
    "c = b\n",
    "d = b.copy()"
   ]
  },
  {
   "cell_type": "code",
   "execution_count": 25,
   "id": "dc32e7f9",
   "metadata": {},
   "outputs": [],
   "source": [
    "# Math routines (https://docs.scipy.org/doc/numpy/reference/routines.linalg.html)"
   ]
  },
  {
   "cell_type": "code",
   "execution_count": null,
   "id": "bd288413",
   "metadata": {},
   "outputs": [],
   "source": [
    "# Load data from file to numpy\n",
    "\n",
    "\"\"\"\n",
    "# Generate numpy array from text file\n",
    "np.genfromtext('filename.txt', delimiter=',') \n",
    "\"\"\""
   ]
  }
 ],
 "metadata": {
  "kernelspec": {
   "display_name": "Python 3 (ipykernel)",
   "language": "python",
   "name": "python3"
  },
  "language_info": {
   "codemirror_mode": {
    "name": "ipython",
    "version": 3
   },
   "file_extension": ".py",
   "mimetype": "text/x-python",
   "name": "python",
   "nbconvert_exporter": "python",
   "pygments_lexer": "ipython3",
   "version": "3.10.6"
  }
 },
 "nbformat": 4,
 "nbformat_minor": 5
}
